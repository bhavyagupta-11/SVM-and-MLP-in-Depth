{
 "cells": [
  {
   "cell_type": "markdown",
   "id": "9b74dc11",
   "metadata": {},
   "source": [
    "# MULTI LAYER PROCESSING"
   ]
  },
  {
   "cell_type": "code",
   "execution_count": 1,
   "id": "ec13ace8",
   "metadata": {},
   "outputs": [],
   "source": [
    "import numpy as np\n",
    "from sklearn.datasets import make_circles\n",
    "import matplotlib.pyplot as plt"
   ]
  },
  {
   "cell_type": "code",
   "execution_count": 2,
   "id": "09c638c1",
   "metadata": {},
   "outputs": [],
   "source": [
    "#Model Parameters\n",
    "input_size=2 #number of features\n",
    "layers=[4,3]\n",
    "output_size=2"
   ]
  },
  {
   "cell_type": "code",
   "execution_count": 3,
   "id": "ad8cf560",
   "metadata": {},
   "outputs": [],
   "source": [
    "def softmax(a):\n",
    "    e=np.exp(a) #vector\n",
    "    ans=e/np.sum(e,axis=1,keepdims=True)  #keepdims allows it to be linear array\n",
    "    return ans"
   ]
  },
  {
   "cell_type": "code",
   "execution_count": 4,
   "id": "00daccc2",
   "metadata": {},
   "outputs": [],
   "source": [
    "class NeuralNetwork:\n",
    "    def __init__(self,input_size,layers,output_size):\n",
    "        np.random.seed(0)\n",
    "        model={}\n",
    "        #For first layer\n",
    "        model['W1']=np.random.randn(input_size,layers[0])\n",
    "        model['b1']=np.zeros((1,layers[0]))\n",
    "        \n",
    "        #For second layer\n",
    "        model['W2']=np.random.randn(layers[0],layers[1])\n",
    "        model['b2']=np.zeros((1,layers[1]))\n",
    "        \n",
    "        #For final layer\n",
    "        model['W3']=np.random.randn(layers[1],output_size)\n",
    "        model['b3']=np.zeros((1,output_size))\n",
    "        \n",
    "        self.model=model  \n",
    "        self.activation_output_=None\n",
    "        \n",
    "    #Forward Propogation\n",
    "    def forward(self,x):\n",
    "        W1,W2,W3=self.model['W1'],self.model['W2'],self.model['W3']\n",
    "        b1,b2,b3=self.model['b1'],self.model['b2'],self.model['b3']\n",
    "        \n",
    "        z1=np.dot(x,W1)+b1\n",
    "        a1=np.tanh(z1)\n",
    "        \n",
    "        z2=np.dot(a1,W2)+b2\n",
    "        a2=np.tanh(z2)\n",
    "        \n",
    "        z3=np.dot(a2,W3)+b3\n",
    "        y_=softmax(z3)\n",
    "        \n",
    "        self.activation_outputs=(a1,a2,y_)\n",
    "        return y_\n",
    "    \n",
    "    #Backward Propogation\n",
    "    def backward(self,x,y,learning_rate=0.001):\n",
    "        W1,W2,W3=self.model['W1'],self.model['W2'],self.model['W3']\n",
    "        b1,b2,b3=self.model['b1'],self.model['b2'],self.model['b3']\n",
    "        m=x.shape[0]\n",
    "        \n",
    "        a1,a2,y_=self.activation_outputs\n",
    "        \n",
    "        #we will start by computing error in the final step\n",
    "        delta3=y_-y\n",
    "        dw3=np.dot(a2.T,delta3)\n",
    "        db3=np.sum(delta3,axis=0)/float(m)\n",
    "        \n",
    "        delta2=(1-np.square(a2))*np.dot(delta3,W3.T)\n",
    "        dw2=np.dot(a1.T,delta2)\n",
    "        db2=np.sum(delta2,axis=0)/float(m)\n",
    "        \n",
    "        delta1=(1-np.square(a1))*np.dot(delta2,W2.T)\n",
    "        dw1=np.dot(X.T,delta1)\n",
    "        db1=np.sum(delta1,axis=0)/float(m)\n",
    "        \n",
    "        \n",
    "        #Update the model parameters using Gradient Descent\n",
    "        self.model['W1']-=learning_rate*dw1\n",
    "        self.model['b1']-=learning_rate*db1\n",
    "        \n",
    "        self.model['W2']-=learning_rate*dw2\n",
    "        self.model['b2']-=learning_rate*db2\n",
    "        \n",
    "        self.model['W3']-=learning_rate*dw3\n",
    "        self.model['b3']-=learning_rate*db3\n",
    "        \n",
    "    def predict(self,x):\n",
    "        y_out=self.forward(x)\n",
    "        return np.argmax(y_out,axis=1)\n",
    "    \n",
    "    def summary(self):\n",
    "        W1,W2,W3=self.model['W1'],self.model['W2'],self.model['W3']\n",
    "        a1,a2,y_=self.activation_outputs\n",
    "        \n",
    "        print(\"W1\",W1.shape)\n",
    "        print('A1',a1.shape)\n",
    "        \n",
    "        print(\"W2\",W2.shape)\n",
    "        print('A2',a2.shape)\n",
    "        \n",
    "        print(\"W3\",W3.shape)\n",
    "        print('A3',y_.shape)\n",
    "        "
   ]
  },
  {
   "cell_type": "code",
   "execution_count": 5,
   "id": "0b2c2c51",
   "metadata": {},
   "outputs": [],
   "source": [
    "def loss(y_oht,p):\n",
    "    l=-np.mean(y_oht*np.log(p))\n",
    "    return l"
   ]
  },
  {
   "cell_type": "code",
   "execution_count": 6,
   "id": "59b17b3b",
   "metadata": {},
   "outputs": [],
   "source": [
    "def one_hot(y,depth):\n",
    "    m=y.shape[0]\n",
    "    y_oht=np.zeros((m,depth))\n",
    "    y_oht[np.arange(m),y]=1\n",
    "    return y_oht"
   ]
  },
  {
   "cell_type": "markdown",
   "id": "e04ee328",
   "metadata": {},
   "source": [
    "TRAINING THE MODEL"
   ]
  },
  {
   "cell_type": "code",
   "execution_count": 7,
   "id": "d3078abf",
   "metadata": {},
   "outputs": [],
   "source": [
    "model=NeuralNetwork(input_size=2,layers=[10,5],output_size=2)"
   ]
  },
  {
   "cell_type": "code",
   "execution_count": 8,
   "id": "e68be3aa",
   "metadata": {},
   "outputs": [],
   "source": [
    "X,Y=make_circles(n_samples=500,shuffle=True,noise=0.05,random_state=1,factor=0.8)"
   ]
  },
  {
   "cell_type": "code",
   "execution_count": 9,
   "id": "3c01b07e",
   "metadata": {},
   "outputs": [
    {
     "data": {
      "image/png": "[encoded data removed]",
      "text/plain": [
       "<Figure size 432x288 with 1 Axes>"
      ]
     },
     "metadata": {
      "needs_background": "light"
     },
     "output_type": "display_data"
    }
   ],
   "source": [
    "plt.scatter(X[:,0],X[:,1],c=Y)\n",
    "plt.show()"
   ]
  },
  {
   "cell_type": "code",
   "execution_count": 10,
   "id": "8976ac2f",
   "metadata": {},
   "outputs": [
    {
     "name": "stdout",
     "output_type": "stream",
     "text": [
      "W1 (2, 10)\n",
      "A1 (500, 10)\n",
      "W2 (10, 5)\n",
      "A2 (500, 5)\n",
      "W3 (5, 2)\n",
      "A3 (500, 2)\n"
     ]
    }
   ],
   "source": [
    "model.forward(X)\n",
    "#model.backward(X,Y_OHT)\n",
    "model.summary()"
   ]
  },
  {
   "cell_type": "code",
   "execution_count": 11,
   "id": "3a136757",
   "metadata": {},
   "outputs": [],
   "source": [
    "def train(X,Y,model,epochs,learning_rate,logs=True):\n",
    "    training_loss=[]\n",
    "    classes=2\n",
    "    Y_OHT=one_hot(Y,classes)\n",
    "    \n",
    "    for i in range(epochs):\n",
    "        Y_=model.forward(X)\n",
    "        l=loss(Y_OHT,Y_)\n",
    "        model.backward(X,Y_OHT,learning_rate)\n",
    "        training_loss.append(l)\n",
    "\n",
    "    return training_loss"
   ]
  },
  {
   "cell_type": "code",
   "execution_count": 12,
   "id": "d03b5ede",
   "metadata": {},
   "outputs": [],
   "source": [
    "training_loss=train(X,Y,model,500,0.00001)"
   ]
  },
  {
   "cell_type": "code",
   "execution_count": 13,
   "id": "45eef4ef",
   "metadata": {},
   "outputs": [
    {
     "data": {
      "image/png": "[encoded data removed]",
      "text/plain": [
       "<Figure size 432x288 with 1 Axes>"
      ]
     },
     "metadata": {
      "needs_background": "light"
     },
     "output_type": "display_data"
    }
   ],
   "source": [
    "plt.plot(training_loss)\n",
    "plt.show()"
   ]
  },
  {
   "cell_type": "code",
   "execution_count": 14,
   "id": "c7fbf337",
   "metadata": {},
   "outputs": [],
   "source": [
    "#Finding ACCURACY"
   ]
  },
  {
   "cell_type": "code",
   "execution_count": 15,
   "id": "f0b96d3d",
   "metadata": {},
   "outputs": [],
   "source": [
    "outputs=model.predict(X)"
   ]
  },
  {
   "cell_type": "code",
   "execution_count": 16,
   "id": "d081ce54",
   "metadata": {},
   "outputs": [],
   "source": [
    "accuracy=np.sum(outputs==Y)/Y.shape[0]"
   ]
  },
  {
   "cell_type": "code",
   "execution_count": 17,
   "id": "b845c48c",
   "metadata": {},
   "outputs": [
    {
     "data": {
      "text/plain": [
       "0.516"
      ]
     },
     "execution_count": 17,
     "metadata": {},
     "output_type": "execute_result"
    }
   ],
   "source": [
    "accuracy"
   ]
  },
  {
   "cell_type": "markdown",
   "id": "ba2a6cd3",
   "metadata": {},
   "source": [
    "TESING ON OTHER DATASETS"
   ]
  },
  {
   "cell_type": "code",
   "execution_count": 18,
   "id": "411169db",
   "metadata": {},
   "outputs": [],
   "source": [
    "#Xor dataset\n",
    "model=NeuralNetwork(input_size=2,layers=[10,5],output_size=2)"
   ]
  },
  {
   "cell_type": "code",
   "execution_count": 19,
   "id": "6d1ada8c",
   "metadata": {},
   "outputs": [],
   "source": [
    "X=np.array([[0,0],[0,1],[1,0],[1,1]])"
   ]
  },
  {
   "cell_type": "code",
   "execution_count": 20,
   "id": "2c1143a2",
   "metadata": {},
   "outputs": [],
   "source": [
    "Y=np.array([0,1,1,0])"
   ]
  },
  {
   "cell_type": "code",
   "execution_count": 21,
   "id": "0f8aab70",
   "metadata": {},
   "outputs": [],
   "source": [
    "#lossf=train(X,Y,model,50,0.0001)"
   ]
  },
  {
   "cell_type": "markdown",
   "id": "047ce4d0",
   "metadata": {},
   "source": [
    "OTHER DATASETS"
   ]
  },
  {
   "cell_type": "code",
   "execution_count": 22,
   "id": "65097d45",
   "metadata": {},
   "outputs": [],
   "source": [
    "from sklearn.datasets import make_moons,make_circles,make_classification"
   ]
  },
  {
   "cell_type": "code",
   "execution_count": 23,
   "id": "5e3a4429",
   "metadata": {},
   "outputs": [],
   "source": [
    "def load_dataset(dataset):\n",
    "    if dataset=='moons':\n",
    "        X,Y=make_moons(n_samples=500,noise=0.2,random_state=1)\n",
    "    elif dataset=='circles':\n",
    "        X,Y=make_circles(n_samples=500,shuffle=True,noise=0.05,random_state=1,factor=0.8)\n",
    "    elif dataset=='classification':\n",
    "        X,Y=make_classification(n_samples=500,n_classes=2,n_features=2,n_informative=2,n_redundant=2,random_state=1)\n",
    "    elif dataset=='xor':\n",
    "        X=np.array([[0,0],[0,1],[1,0],[1,1]])\n",
    "        Y=np.array([0,1,1,0])\n",
    "    return X,Y"
   ]
  },
  {
   "cell_type": "code",
   "execution_count": 24,
   "id": "4b9b699d",
   "metadata": {},
   "outputs": [
    {
     "name": "stdout",
     "output_type": "stream",
     "text": [
      "1.0\n"
     ]
    },
    {
     "data": {
      "image/png": "[encoded data removed]",
      "text/plain": [
       "<Figure size 432x288 with 1 Axes>"
      ]
     },
     "metadata": {
      "needs_background": "light"
     },
     "output_type": "display_data"
    },
    {
     "ename": "ValueError",
     "evalue": "Number of informative, redundant and repeated features must sum to less than the number of total features",
     "output_type": "error",
     "traceback": [
      "\u001b[1;31m---------------------------------------------------------------------------\u001b[0m",
      "\u001b[1;31mValueError\u001b[0m                                Traceback (most recent call last)",
      "Input \u001b[1;32mIn [24]\u001b[0m, in \u001b[0;36m<cell line: 3>\u001b[1;34m()\u001b[0m\n\u001b[0;32m      3\u001b[0m \u001b[38;5;28;01mfor\u001b[39;00m d \u001b[38;5;129;01min\u001b[39;00m datasets:\n\u001b[0;32m      4\u001b[0m     model\u001b[38;5;241m=\u001b[39mNeuralNetwork(input_size\u001b[38;5;241m=\u001b[39m\u001b[38;5;241m2\u001b[39m,layers\u001b[38;5;241m=\u001b[39m[\u001b[38;5;241m4\u001b[39m,\u001b[38;5;241m3\u001b[39m],output_size\u001b[38;5;241m=\u001b[39m\u001b[38;5;241m2\u001b[39m)\n\u001b[1;32m----> 5\u001b[0m     X,Y\u001b[38;5;241m=\u001b[39m\u001b[43mload_dataset\u001b[49m\u001b[43m(\u001b[49m\u001b[43md\u001b[49m\u001b[43m)\u001b[49m\n\u001b[0;32m      6\u001b[0m     train(X,Y,model,\u001b[38;5;241m1000\u001b[39m,\u001b[38;5;241m0.001\u001b[39m)\n\u001b[0;32m      7\u001b[0m     outputs\u001b[38;5;241m=\u001b[39mmodel\u001b[38;5;241m.\u001b[39mpredict(X)\n",
      "Input \u001b[1;32mIn [23]\u001b[0m, in \u001b[0;36mload_dataset\u001b[1;34m(dataset)\u001b[0m\n\u001b[0;32m      5\u001b[0m     X,Y\u001b[38;5;241m=\u001b[39mmake_circles(n_samples\u001b[38;5;241m=\u001b[39m\u001b[38;5;241m500\u001b[39m,shuffle\u001b[38;5;241m=\u001b[39m\u001b[38;5;28;01mTrue\u001b[39;00m,noise\u001b[38;5;241m=\u001b[39m\u001b[38;5;241m0.05\u001b[39m,random_state\u001b[38;5;241m=\u001b[39m\u001b[38;5;241m1\u001b[39m,factor\u001b[38;5;241m=\u001b[39m\u001b[38;5;241m0.8\u001b[39m)\n\u001b[0;32m      6\u001b[0m \u001b[38;5;28;01melif\u001b[39;00m dataset\u001b[38;5;241m==\u001b[39m\u001b[38;5;124m'\u001b[39m\u001b[38;5;124mclassification\u001b[39m\u001b[38;5;124m'\u001b[39m:\n\u001b[1;32m----> 7\u001b[0m     X,Y\u001b[38;5;241m=\u001b[39m\u001b[43mmake_classification\u001b[49m\u001b[43m(\u001b[49m\u001b[43mn_samples\u001b[49m\u001b[38;5;241;43m=\u001b[39;49m\u001b[38;5;241;43m500\u001b[39;49m\u001b[43m,\u001b[49m\u001b[43mn_classes\u001b[49m\u001b[38;5;241;43m=\u001b[39;49m\u001b[38;5;241;43m2\u001b[39;49m\u001b[43m,\u001b[49m\u001b[43mn_features\u001b[49m\u001b[38;5;241;43m=\u001b[39;49m\u001b[38;5;241;43m2\u001b[39;49m\u001b[43m,\u001b[49m\u001b[43mn_informative\u001b[49m\u001b[38;5;241;43m=\u001b[39;49m\u001b[38;5;241;43m2\u001b[39;49m\u001b[43m,\u001b[49m\u001b[43mn_redundant\u001b[49m\u001b[38;5;241;43m=\u001b[39;49m\u001b[38;5;241;43m2\u001b[39;49m\u001b[43m,\u001b[49m\u001b[43mrandom_state\u001b[49m\u001b[38;5;241;43m=\u001b[39;49m\u001b[38;5;241;43m1\u001b[39;49m\u001b[43m)\u001b[49m\n\u001b[0;32m      8\u001b[0m \u001b[38;5;28;01melif\u001b[39;00m dataset\u001b[38;5;241m==\u001b[39m\u001b[38;5;124m'\u001b[39m\u001b[38;5;124mxor\u001b[39m\u001b[38;5;124m'\u001b[39m:\n\u001b[0;32m      9\u001b[0m     X\u001b[38;5;241m=\u001b[39mnp\u001b[38;5;241m.\u001b[39marray([[\u001b[38;5;241m0\u001b[39m,\u001b[38;5;241m0\u001b[39m],[\u001b[38;5;241m0\u001b[39m,\u001b[38;5;241m1\u001b[39m],[\u001b[38;5;241m1\u001b[39m,\u001b[38;5;241m0\u001b[39m],[\u001b[38;5;241m1\u001b[39m,\u001b[38;5;241m1\u001b[39m]])\n",
      "File \u001b[1;32m~\\anaconda3\\lib\\site-packages\\sklearn\\datasets\\_samples_generator.py:177\u001b[0m, in \u001b[0;36mmake_classification\u001b[1;34m(n_samples, n_features, n_informative, n_redundant, n_repeated, n_classes, n_clusters_per_class, weights, flip_y, class_sep, hypercube, shift, scale, shuffle, random_state)\u001b[0m\n\u001b[0;32m    175\u001b[0m \u001b[38;5;66;03m# Count features, clusters and samples\u001b[39;00m\n\u001b[0;32m    176\u001b[0m \u001b[38;5;28;01mif\u001b[39;00m n_informative \u001b[38;5;241m+\u001b[39m n_redundant \u001b[38;5;241m+\u001b[39m n_repeated \u001b[38;5;241m>\u001b[39m n_features:\n\u001b[1;32m--> 177\u001b[0m     \u001b[38;5;28;01mraise\u001b[39;00m \u001b[38;5;167;01mValueError\u001b[39;00m(\n\u001b[0;32m    178\u001b[0m         \u001b[38;5;124m\"\u001b[39m\u001b[38;5;124mNumber of informative, redundant and repeated \u001b[39m\u001b[38;5;124m\"\u001b[39m\n\u001b[0;32m    179\u001b[0m         \u001b[38;5;124m\"\u001b[39m\u001b[38;5;124mfeatures must sum to less than the number of total\u001b[39m\u001b[38;5;124m\"\u001b[39m\n\u001b[0;32m    180\u001b[0m         \u001b[38;5;124m\"\u001b[39m\u001b[38;5;124m features\u001b[39m\u001b[38;5;124m\"\u001b[39m\n\u001b[0;32m    181\u001b[0m     )\n\u001b[0;32m    182\u001b[0m \u001b[38;5;66;03m# Use log2 to avoid overflow errors\u001b[39;00m\n\u001b[0;32m    183\u001b[0m \u001b[38;5;28;01mif\u001b[39;00m n_informative \u001b[38;5;241m<\u001b[39m np\u001b[38;5;241m.\u001b[39mlog2(n_classes \u001b[38;5;241m*\u001b[39m n_clusters_per_class):\n",
      "\u001b[1;31mValueError\u001b[0m: Number of informative, redundant and repeated features must sum to less than the number of total features"
     ]
    }
   ],
   "source": [
    "datasets=[\"xor\",'classification',\"moons\",\"circles\"]\n",
    "\n",
    "for d in datasets:\n",
    "    model=NeuralNetwork(input_size=2,layers=[4,3],output_size=2)\n",
    "    X,Y=load_dataset(d)\n",
    "    train(X,Y,model,1000,0.001)\n",
    "    outputs=model.predict(X)\n",
    "    \n",
    "    accuracy=np.sum(outputs==Y)/Y.shape[0]\n",
    "    print (accuracy)\n",
    "    plt.plot(X[:,0],X[:,1],c=Y)\n",
    "    plt.show()"
   ]
  },
  {
   "cell_type": "code",
   "execution_count": null,
   "id": "7c7445d9",
   "metadata": {},
   "outputs": [],
   "source": []
  }
 ],
 "metadata": {
  "kernelspec": {
   "display_name": "Python 3 (ipykernel)",
   "language": "python",
   "name": "python3"
  },
  "language_info": {
   "codemirror_mode": {
    "name": "ipython",
    "version": 3
   },
   "file_extension": ".py",
   "mimetype": "text/x-python",
   "name": "python",
   "nbconvert_exporter": "python",
   "pygments_lexer": "ipython3",
   "version": "3.9.12"
  }
 },
 "nbformat": 4,
 "nbformat_minor": 5
}
